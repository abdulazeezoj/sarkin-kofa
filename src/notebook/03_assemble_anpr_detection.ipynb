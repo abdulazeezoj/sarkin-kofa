{
  "cells": [
    {
      "cell_type": "markdown",
      "metadata": {
        "id": "PGIEUp8aG31d"
      },
      "source": [
        "# ANPR\n",
        "```\n",
        "Assemble ANPR detection\n",
        "```"
      ]
    },
    {
      "cell_type": "code",
      "execution_count": 2,
      "metadata": {
        "colab": {
          "base_uri": "https://localhost:8080/"
        },
        "id": "kmmmAi17rhrB",
        "outputId": "edc6b3f1-4fc7-4d64-9a0d-b2ea68b1194b"
      },
      "outputs": [
        {
          "name": "stderr",
          "output_type": "stream",
          "text": [
            "Ultralytics YOLOv8.0.148 🚀 Python-3.10.10 torch-2.0.1 CPU (Intel Core(TM) i5-1038NG7 2.00GHz)\n",
            "Setup complete ✅ (8 CPUs, 16.0 GB RAM, 263.4/465.6 GB disk)\n"
          ]
        }
      ],
      "source": [
        "import ultralytics\n",
        "ultralytics.checks()"
      ]
    },
    {
      "cell_type": "code",
      "execution_count": 24,
      "metadata": {
        "colab": {
          "base_uri": "https://localhost:8080/"
        },
        "id": "op8Zrg_irEz8",
        "outputId": "8c1d0e31-a053-455c-a4f0-d9d93fb31c8a"
      },
      "outputs": [],
      "source": [
        "# Load the model and predict the image\n",
        "from ultralytics import YOLO\n",
        "import pathlib\n",
        "\n",
        "model = YOLO(\"../demo/models/anpr/anprv8n.pt\")\n"
      ]
    },
    {
      "cell_type": "code",
      "execution_count": 25,
      "metadata": {},
      "outputs": [
        {
          "data": {
            "image/jpeg": "[encoded data removed]",
            "text/plain": [
              "<IPython.core.display.Image object>"
            ]
          },
          "execution_count": 25,
          "metadata": {},
          "output_type": "execute_result"
        }
      ],
      "source": [
        "# Load image\n",
        "import cv2\n",
        "from IPython.display import display, Image\n",
        "\n",
        "# Load image color\n",
        "img = cv2.imread(\"../demo/store/10_lp.jpg\")\n",
        "\n",
        "Image(filename='../demo/store/10_lp.jpg')"
      ]
    },
    {
      "cell_type": "code",
      "execution_count": 26,
      "metadata": {
        "id": "IPy3GjCL3QaL"
      },
      "outputs": [
        {
          "name": "stderr",
          "output_type": "stream",
          "text": [
            "\n",
            "0: 416x640 1 3, 1 6, 1 9, 1 A, 1 C, 1 G, 1 W, 1 Y, 98.3ms\n",
            "Speed: 5.8ms preprocess, 98.3ms inference, 3.2ms postprocess per image at shape (1, 3, 416, 640)\n"
          ]
        },
        {
          "name": "stdout",
          "output_type": "stream",
          "text": [
            "ultralytics.engine.results.Results object with attributes:\n",
            "\n",
            "boxes: ultralytics.engine.results.Boxes object\n",
            "keypoints: None\n",
            "keys: ['boxes']\n",
            "masks: None\n",
            "names: {0: '0', 1: '1', 2: '2', 3: '3', 4: '4', 5: '5', 6: '6', 7: '7', 8: '8', 9: '9', 10: 'A', 11: 'B', 12: 'C', 13: 'D', 14: 'E', 15: 'G', 16: 'J', 17: 'K', 18: 'N', 19: 'P', 20: 'R', 21: 'S', 22: 'T', 23: 'W', 24: 'Y', 25: 'Z'}\n",
            "orig_img: array([[[  6,   0, 255],\n",
            "        [  2,   0, 253],\n",
            "        [  0,   0, 253],\n",
            "        ...,\n",
            "        [  2,   0, 253],\n",
            "        [  2,   0, 254],\n",
            "        [  0,   0, 253]],\n",
            "\n",
            "       [[  1,   0, 252],\n",
            "        [ 13,  10, 244],\n",
            "        [ 16,  13, 212],\n",
            "        ...,\n",
            "        [ 23,  20, 206],\n",
            "        [ 21,  18, 222],\n",
            "        [  1,   3, 241]],\n",
            "\n",
            "       [[  2,   3, 255],\n",
            "        [ 15,  13, 209],\n",
            "        [203, 196, 255],\n",
            "        ...,\n",
            "        [ 96,  90, 143],\n",
            "        [ 77,  73, 176],\n",
            "        [ 21,  16, 221]],\n",
            "\n",
            "       ...,\n",
            "\n",
            "       [[  2,   0, 252],\n",
            "        [ 25,  22, 208],\n",
            "        [  0,   0,  54],\n",
            "        ...,\n",
            "        [ 58,  47,  27],\n",
            "        [ 35,  27,  74],\n",
            "        [ 25,  20, 205]],\n",
            "\n",
            "       [[  8,   0, 254],\n",
            "        [ 16,  12, 215],\n",
            "        [  0,   0,  92],\n",
            "        ...,\n",
            "        [ 39,  32,  77],\n",
            "        [ 24,  20, 116],\n",
            "        [ 18,  16, 216]],\n",
            "\n",
            "       [[  1,   0, 253],\n",
            "        [ 10,   8, 244],\n",
            "        [ 16,   9, 214],\n",
            "        ...,\n",
            "        [ 27,  21, 206],\n",
            "        [ 18,  15, 215],\n",
            "        [  5,   9, 242]]], dtype=uint8)\n",
            "orig_shape: (133, 205)\n",
            "path: 'image0.jpg'\n",
            "probs: None\n",
            "save_dir: None\n",
            "speed: {'preprocess': 5.77092170715332, 'inference': 98.28424453735352, 'postprocess': 3.1828880310058594}\n"
          ]
        },
        {
          "data": {
            "image/jpeg": "[encoded data removed]",
            "text/plain": [
              "<IPython.core.display.Image object>"
            ]
          },
          "execution_count": 26,
          "metadata": {},
          "output_type": "execute_result"
        }
      ],
      "source": [
        "# Read image\n",
        "results = model(img)\n",
        "\n",
        "# Visualize predictions\n",
        "cv2.imwrite('results.jpg', results[0].plot())\n",
        "print(results[0])\n",
        "Image('results.jpg')"
      ]
    },
    {
      "cell_type": "code",
      "execution_count": 27,
      "metadata": {},
      "outputs": [
        {
          "name": "stdout",
          "output_type": "stream",
          "text": [
            "License plate number: GWA369CY (confidence: 0.92)\n",
            "[[25.111570358276367, 62.70513916015625, 46.51313781738281, 107.3979263305664, 0.9394227266311646, 15.0, 'G'], [44.10090637207031, 59.60029220581055, 65.609619140625, 104.4334945678711, 0.9923064112663269, 23.0, 'W'], [67.06402587890625, 55.38239288330078, 85.9710464477539, 101.44551086425781, 0.9613499641418457, 10.0, 'A'], [91.39745330810547, 49.05066680908203, 111.76087188720703, 93.69754791259766, 0.903742253780365, 3.0, '3'], [110.7781753540039, 44.72428894042969, 129.9987335205078, 89.95480346679688, 0.8654577136039734, 6.0, '6'], [128.90574645996094, 42.29845428466797, 148.47970581054688, 83.70417785644531, 0.8139083385467529, 9.0, '9'], [147.5785369873047, 37.54454040527344, 165.564208984375, 81.21402740478516, 0.943046510219574, 12.0, 'C'], [164.36386108398438, 31.10718536376953, 182.11363220214844, 78.19527435302734, 0.9553743600845337, 24.0, 'Y']]\n"
          ]
        }
      ],
      "source": [
        "import numpy as np\n",
        "\n",
        "names = results[0].names\n",
        "boxes = results[0].boxes.data.numpy()\n",
        "\n",
        "# Sort boxes by x1 coordinate (left to right)\n",
        "boxes = boxes[boxes[:, 0].argsort()].tolist()\n",
        "\n",
        "# Add names to boxes\n",
        "labels = [names[box[-1]] for box in boxes]\n",
        "\n",
        "# Add labels column to boxes\n",
        "boxes = [box + [label] for box, label in zip(boxes, labels)]\n",
        "\n",
        "# Assemble license plate number\n",
        "lpn = \"\".join([box[-1] for box in boxes])\n",
        "lpn_conf = np.mean([box[4] for box in boxes])\n",
        "\n",
        "# Print boxes\n",
        "print(f\"License plate number: {lpn} (confidence: {lpn_conf:.2f})\")\n",
        "print(boxes)"
      ]
    },
    {
      "cell_type": "code",
      "execution_count": 1,
      "metadata": {},
      "outputs": [
        {
          "name": "stdout",
          "output_type": "stream",
          "text": [
            "['chair1', 'chair2', 'chair3T', 'chair4', 'chair5T']\n",
            "['chair1', 'chair2', 'chair4']\n"
          ]
        }
      ],
      "source": [
        "chairs = [\"chair1\", \"chair2\", \"chair3T\", \"chair4\", \"chair5T\"]\n",
        "print(chairs)\n",
        "i = 0\n",
        "while i < len(chairs):\n",
        "    if \"T\" in chairs[i]:\n",
        "        chairs.remove(chairs[i])\n",
        "    \n",
        "    i += 1\n",
        "print(chairs)"
      ]
    },
    {
      "cell_type": "code",
      "execution_count": 8,
      "metadata": {},
      "outputs": [
        {
          "name": "stdout",
          "output_type": "stream",
          "text": [
            "5000000 out of 10000000 are even\n"
          ]
        }
      ],
      "source": [
        "numbers = range(1, 10000001)\n",
        "\n",
        "i = 0  # index\n",
        "num_even = 0   # numbers of even number\n",
        "\n",
        "while i < len(numbers):\n",
        "    # check if number is even\n",
        "    if numbers[i] % 2 == 0:\n",
        "        num_even += 1\n",
        "    \n",
        "    # increase the index\n",
        "    i += 1\n",
        "\n",
        "print(f\"{num_even} out of {len(numbers)} are even\")"
      ]
    },
    {
      "cell_type": "code",
      "execution_count": 11,
      "metadata": {},
      "outputs": [
        {
          "name": "stdout",
          "output_type": "stream",
          "text": [
            "33200"
          ]
        },
        {
          "ename": "KeyboardInterrupt",
          "evalue": "",
          "output_type": "error",
          "traceback": [
            "\u001b[0;31m---------------------------------------------------------------------------\u001b[0m",
            "\u001b[0;31mKeyboardInterrupt\u001b[0m                         Traceback (most recent call last)",
            "\u001b[1;32m/Users/abdulazeezoj/Desktop/Devspace/Work/personal/sarkin-kofa/project/notebook/03_assemble_anpr_detection.ipynb Cell 9\u001b[0m line \u001b[0;36m4\n\u001b[1;32m      <a href='vscode-notebook-cell:/Users/abdulazeezoj/Desktop/Devspace/Work/personal/sarkin-kofa/project/notebook/03_assemble_anpr_detection.ipynb#X10sZmlsZQ%3D%3D?line=0'>1</a>\u001b[0m numbers \u001b[39m=\u001b[39m \u001b[39mrange\u001b[39m(\u001b[39m1\u001b[39m, \u001b[39m10000001\u001b[39m)\n\u001b[1;32m      <a href='vscode-notebook-cell:/Users/abdulazeezoj/Desktop/Devspace/Work/personal/sarkin-kofa/project/notebook/03_assemble_anpr_detection.ipynb#X10sZmlsZQ%3D%3D?line=2'>3</a>\u001b[0m \u001b[39mfor\u001b[39;00m i \u001b[39min\u001b[39;00m numbers:\n\u001b[0;32m----> <a href='vscode-notebook-cell:/Users/abdulazeezoj/Desktop/Devspace/Work/personal/sarkin-kofa/project/notebook/03_assemble_anpr_detection.ipynb#X10sZmlsZQ%3D%3D?line=3'>4</a>\u001b[0m     \u001b[39mprint\u001b[39m(i, end\u001b[39m=\u001b[39m\u001b[39m\"\u001b[39m\u001b[39m\\r\u001b[39;00m\u001b[39m\"\u001b[39m)\n",
            "File \u001b[0;32m~/Library/Caches/pypoetry/virtualenvs/sarkin-kofa-oHGHOZmB-py3.11/lib/python3.11/site-packages/ipykernel/iostream.py:664\u001b[0m, in \u001b[0;36mOutStream.write\u001b[0;34m(self, string)\u001b[0m\n\u001b[1;32m    662\u001b[0m         \u001b[39mself\u001b[39m\u001b[39m.\u001b[39mpub_thread\u001b[39m.\u001b[39mschedule(\u001b[39mself\u001b[39m\u001b[39m.\u001b[39m_flush)\n\u001b[1;32m    663\u001b[0m     \u001b[39melse\u001b[39;00m:\n\u001b[0;32m--> 664\u001b[0m         \u001b[39mself\u001b[39;49m\u001b[39m.\u001b[39;49m_schedule_flush()\n\u001b[1;32m    666\u001b[0m \u001b[39mreturn\u001b[39;00m \u001b[39mlen\u001b[39m(string)\n",
            "File \u001b[0;32m~/Library/Caches/pypoetry/virtualenvs/sarkin-kofa-oHGHOZmB-py3.11/lib/python3.11/site-packages/ipykernel/iostream.py:548\u001b[0m, in \u001b[0;36mOutStream._schedule_flush\u001b[0;34m(self)\u001b[0m\n\u001b[1;32m    544\u001b[0m \u001b[39m@property\u001b[39m\n\u001b[1;32m    545\u001b[0m \u001b[39mdef\u001b[39;00m \u001b[39mclosed\u001b[39m(\u001b[39mself\u001b[39m):\n\u001b[1;32m    546\u001b[0m     \u001b[39mreturn\u001b[39;00m \u001b[39mself\u001b[39m\u001b[39m.\u001b[39mpub_thread \u001b[39mis\u001b[39;00m \u001b[39mNone\u001b[39;00m\n\u001b[0;32m--> 548\u001b[0m \u001b[39mdef\u001b[39;00m \u001b[39m_schedule_flush\u001b[39m(\u001b[39mself\u001b[39m):\n\u001b[1;32m    549\u001b[0m \u001b[39m    \u001b[39m\u001b[39m\"\"\"schedule a flush in the IO thread\u001b[39;00m\n\u001b[1;32m    550\u001b[0m \n\u001b[1;32m    551\u001b[0m \u001b[39m    call this on write, to indicate that flush should be called soon.\u001b[39;00m\n\u001b[1;32m    552\u001b[0m \u001b[39m    \"\"\"\u001b[39;00m\n\u001b[1;32m    553\u001b[0m     \u001b[39mif\u001b[39;00m \u001b[39mself\u001b[39m\u001b[39m.\u001b[39m_flush_pending:\n",
            "\u001b[0;31mKeyboardInterrupt\u001b[0m: "
          ]
        }
      ],
      "source": [
        "numbers = range(1, 10000001)\n",
        "\n",
        "for i in numbers:\n",
        "    print(i, end=\"\\r\")"
      ]
    },
    {
      "cell_type": "code",
      "execution_count": null,
      "metadata": {},
      "outputs": [],
      "source": []
    }
  ],
  "metadata": {
    "accelerator": "GPU",
    "colab": {
      "gpuType": "T4",
      "provenance": []
    },
    "kernelspec": {
      "display_name": "Python 3",
      "name": "python3"
    },
    "language_info": {
      "codemirror_mode": {
        "name": "ipython",
        "version": 3
      },
      "file_extension": ".py",
      "mimetype": "text/x-python",
      "name": "python",
      "nbconvert_exporter": "python",
      "pygments_lexer": "ipython3",
      "version": "3.11.3"
    }
  },
  "nbformat": 4,
  "nbformat_minor": 0
}
